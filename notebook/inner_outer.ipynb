{
 "cells": [
  {
   "cell_type": "code",
   "execution_count": 40,
   "metadata": {},
   "outputs": [],
   "source": [
    "import numpy as np\n",
    "from tqdm import tqdm\n",
    "import trimesh\n",
    "import open3d as o3d\n",
    "import math\n",
    "\n",
    "import matplotlib.pyplot as plt\n",
    "\n",
    "import glob\n",
    "import os, re\n",
    "from omegaconf import OmegaConf\n",
    "from collections import Counter\n",
    "from skimage.filters import threshold_minimum\n",
    "import scipy\n",
    "import skimage\n",
    "import seaborn as sns"
   ]
  },
  {
   "cell_type": "code",
   "execution_count": 2,
   "metadata": {},
   "outputs": [],
   "source": [
    "# Helper-functions\n",
    "\n",
    "def atoi(text):\n",
    "    return int(text) if text.isdigit() else text\n",
    "\n",
    "def natural_keys(text):\n",
    "    return [atoi(c) for c in re.split(r'(\\d+)', text) ]\n",
    "\n",
    "def fibonacci_sphere(samples=2):\n",
    "    points = []\n",
    "    phi = math.pi * (3. - math.sqrt(5.))  # golden angle in radians\n",
    "    for i in range(samples):\n",
    "        y = 1 - (i / float(samples - 1)) * 2  # y goes from 1 to -1\n",
    "        radius = math.sqrt(1 - y * y)  # radius at y\n",
    "\n",
    "        theta = phi * i  # golden angle increment\n",
    "        x = math.cos(theta) * radius\n",
    "        z = math.sin(theta) * radius\n",
    "        points.append((x, y, z))\n",
    "\n",
    "    return points\n",
    "\n",
    "# Nothing to see here\n",
    "def toIntAppended1D(data):\n",
    "    int_1d = np.zeros((len(data)))\n",
    "    for i in range(len(data)):\n",
    "        s = data[i]\n",
    "        int_1d[i] = int(str(s[0]) + str(s[1]) + str(s[2]))\n",
    "    return int_1d\n",
    "\n",
    "def List2Vec(lst, shape = (320,303,228)):\n",
    "    vecs = np.reshape(lst, shape)\n",
    "    vecs = np.array(np.where(vecs!=0)).T.astype(np.int16)\n",
    "    return vecs\n",
    "\n",
    "def Vec2List(vecs, shape = (320,303,228)):\n",
    "    cube = np.zeros(shape)\n",
    "    cube[vecs[:,0], vecs[:,1], vecs[:,2]] = 1\n",
    "    lst = np.reshape(cube, -1)\n",
    "    return lst\n",
    "    #coords = np.moveaxis(np.indices(shape), 0, -1)"
   ]
  },
  {
   "cell_type": "code",
   "execution_count": 3,
   "metadata": {},
   "outputs": [],
   "source": [
    "def coords2pc(coords, plot=True, color = [1,0,0]):\n",
    "    pcd = o3d.geometry.PointCloud()\n",
    "    pcd.points = o3d.utility.Vector3dVector(coords)\n",
    "\n",
    "    pcd_colors = np.repeat([color],len(coords), axis=0)\n",
    "    pcd.colors = o3d.utility.Vector3dVector(pcd_colors)\n",
    "\n",
    "    pcd.estimate_normals()\n",
    "\n",
    "    # Visualization-check\n",
    "    if plot:\n",
    "        o3d.visualization.draw_geometries([pcd])\n",
    "        \n",
    "    return pcd\n",
    "\n",
    "def getNumHitPerCoord(locs, threshold=None):\n",
    "    # count number of hits for each point in the point-cloud of the heart surface\n",
    "    c = Counter(map(tuple, locs))\n",
    "\n",
    "    coords = np.array(list(c.keys()))\n",
    "    key_values = np.array(list(c.values()))   \n",
    "    \n",
    "    s_inds = toIntAppended1D(surface_inds)\n",
    "    s_coords = toIntAppended1D(coords)\n",
    "    s, a_inds, b_inds = np.intersect1d(s_inds, s_coords, return_indices=True)\n",
    "    \n",
    "    if threshold==None:\n",
    "        lst = np.concatenate([surface_inds[a_inds], np.array([key_values[b_inds]]).T], axis=1)\n",
    "    else:\n",
    "        lst = np.concatenate([surface_inds[a_inds], np.array([key_values[b_inds]]).T>threshold], axis=1)\n",
    "    return lst  \n",
    "    \n",
    "def counter2apearance(coords, values, threshold=12):\n",
    "    s_inds = toIntAppended1D(surface_inds)\n",
    "    s_coords = toIntAppended1D(coords)\n",
    "    s, a_inds, b_inds = np.intersect1d(s_inds, s_coords, return_indices=True)\n",
    "    \n",
    "    print(np.array([values[b_inds]]).T.shape, surface_inds[a_inds].shape)\n",
    "    lst = np.concatenate([surface_inds[a_inds], np.array([values[b_inds]]).T>threshold], axis=1)\n",
    "    return lst"
   ]
  },
  {
   "cell_type": "code",
   "execution_count": 4,
   "metadata": {},
   "outputs": [
    {
     "data": {
      "text/plain": [
       "array([[ 10,   0,   2],\n",
       "       [ 12, 158, 102],\n",
       "       [120, 201, 200]], dtype=int16)"
      ]
     },
     "execution_count": 4,
     "metadata": {},
     "output_type": "execute_result"
    }
   ],
   "source": [
    "shape = (320,303,228) # set 3D discretisation\n",
    "\n",
    "# Test of transformations\n",
    "vecs = np.array([[120,201,200],[12,158,102], [10,0,2]])\n",
    "List2Vec(Vec2List(vecs))"
   ]
  },
  {
   "cell_type": "code",
   "execution_count": 5,
   "metadata": {},
   "outputs": [],
   "source": [
    "#file_geometry = '/home/roland/Projekte/HeartReconstruction/data/processed/Atrial_geometry'\n",
    "file_surface = '/home/roland/Projekte/HeartReconstruction/data/processed/Heart_surface'"
   ]
  },
  {
   "cell_type": "code",
   "execution_count": 6,
   "metadata": {},
   "outputs": [],
   "source": [
    "#geometry = np.fromfile(file_geometry, dtype=np.int32)\n",
    "#heart_inds = List2Vec(geometry) # shape: [n,3], transposed list of 3D-vectors\n",
    "\n",
    "surface = np.fromfile(file_surface, dtype=np.int32)\n",
    "surface_inds = List2Vec(surface) # shape: [m,3], transposed list of 3D-vectors"
   ]
  },
  {
   "cell_type": "code",
   "execution_count": 7,
   "metadata": {},
   "outputs": [],
   "source": [
    "# Generate o3d point cloud from the heart\n",
    "\n",
    "pcd = o3d.geometry.PointCloud()\n",
    "pcd.points = o3d.utility.Vector3dVector(surface_inds)\n",
    "colors = np.ones((len(surface_inds), 3))*0.7\n",
    "pcd.colors = o3d.utility.Vector3dVector(colors)\n",
    "pcd.estimate_normals()\n",
    "\n",
    "#o3d.io.write_point_cloud(\"heart.ply\", pcd)\n",
    "\n",
    "#o3d.visualization.draw_geometries([pcd], point_show_normal=False)"
   ]
  },
  {
   "cell_type": "code",
   "execution_count": 8,
   "metadata": {},
   "outputs": [],
   "source": [
    "# Generate o3d-mesh from point cloud from the heart\n",
    "\n",
    "radii = np.array([0.005, 0.01, 0.02, 0.04])*100\n",
    "mesh = o3d.geometry.TriangleMesh.create_from_point_cloud_ball_pivoting(pcd, o3d.utility.DoubleVector(radii))\n",
    "#mesh = o3d.geometry.TriangleMesh.create_from_point_cloud_poisson(pcd, depth=7)\n",
    "#mesh = o3d.geometry.TriangleMesh.create_from_point_cloud_alpha_shape(pcd, )"
   ]
  },
  {
   "cell_type": "code",
   "execution_count": 9,
   "metadata": {},
   "outputs": [],
   "source": [
    "# Visualization-check\n",
    "#o3d.visualization.draw_geometries([mesh])"
   ]
  },
  {
   "cell_type": "code",
   "execution_count": 10,
   "metadata": {},
   "outputs": [],
   "source": [
    "# Generate Ray-tracer for ray-mesh-intersections\n",
    "\n",
    "tri_mesh = trimesh.Trimesh(np.asarray(mesh.vertices), \n",
    "                           np.asarray(mesh.triangles),\n",
    "                           vertex_normals=np.asarray(mesh.vertex_normals))\n",
    "\n",
    "tracer = trimesh.ray.ray_pyembree.RayMeshIntersector(tri_mesh)"
   ]
  },
  {
   "cell_type": "code",
   "execution_count": 11,
   "metadata": {},
   "outputs": [],
   "source": [
    "# Generate fibonacci points as enveloping sphere around the heart\n",
    "\n",
    "num_points = 5000 # number of ray-origins around the heart\n",
    "radius = 250 # arbitrary tuned\n",
    "s_off = np.array([surface_inds[:,i].mean() for i in range(3)]) + np.array([-10,-20,0]) # manually tuned\n",
    "points = np.array(fibonacci_sphere(num_points))*radius + s_off\n",
    "\n",
    "#ex1 = np.array([surface_inds[:,i].max() for i in range(1,4)]) - np.array([surface_inds[:,i].mean() for i in range(1,4)])\n",
    "#ex2 = np.array([surface_inds[:,i].min() for i in range(1,4)]) - np.array([surface_inds[:,i].mean() for i in range(1,4)])\n",
    "#dmax = np.max(np.abs(ex1) + np.abs(ex2))#"
   ]
  },
  {
   "cell_type": "code",
   "execution_count": 12,
   "metadata": {},
   "outputs": [],
   "source": [
    "# Generate o3d-point-cloud from fibonacci-sphere-point-cloud\n",
    "\n",
    "sphere = o3d.geometry.PointCloud()\n",
    "sphere.points = o3d.utility.Vector3dVector(points)\n",
    "sphere.estimate_normals()"
   ]
  },
  {
   "cell_type": "code",
   "execution_count": 13,
   "metadata": {},
   "outputs": [],
   "source": [
    "# Visualization-check\n",
    "o3d.visualization.draw_geometries([sphere, pcd])"
   ]
  },
  {
   "cell_type": "code",
   "execution_count": 14,
   "metadata": {},
   "outputs": [],
   "source": [
    "# origins are the previously defineds point on the enveloping sphere\n",
    "# directions of the rays from ever origin are again points on a sphere:\n",
    "\n",
    "num_dirs = 20000 # ( 1 000 000)\n",
    "directions = np.array(fibonacci_sphere(num_dirs))\n",
    "origins = points"
   ]
  },
  {
   "cell_type": "code",
   "execution_count": 15,
   "metadata": {},
   "outputs": [
    {
     "name": "stderr",
     "output_type": "stream",
     "text": [
      "100%|██████████| 5000/5000 [00:16<00:00, 311.97it/s]\n"
     ]
    }
   ],
   "source": [
    "# find ray-intersections for every origin with every direction\n",
    "\n",
    "locs = []\n",
    "for origin in tqdm(origins):\n",
    "    _origins = np.repeat([origin], len(directions), axis=0)\n",
    "\n",
    "    loc, _, _ = tracer.intersects_location(_origins, directions, multiple_hits=False)\n",
    "    loc = (loc+0.5).astype(np.int16) # round intersection-coordinate to find the closest point at the surface\n",
    "    locs.append(loc)\n",
    "locs = np.concatenate(locs, axis=0)\n"
   ]
  },
  {
   "cell_type": "code",
   "execution_count": 16,
   "metadata": {},
   "outputs": [
    {
     "data": {
      "text/plain": [
       "array([[106,   9,  93,  23],\n",
       "       [106,   9,  94,  34],\n",
       "       [106,   9,  95,  50],\n",
       "       ...,\n",
       "       [289, 137, 105,  44],\n",
       "       [289, 137, 106,  44],\n",
       "       [289, 138, 102,  59]])"
      ]
     },
     "execution_count": 16,
     "metadata": {},
     "output_type": "execute_result"
    }
   ],
   "source": [
    "# counts for each point at the heart surface how often it got hit by rays: [x,y,z,num_hits]\n",
    "# if threshold!=None: set num_hits to 1 if number is above threshold\n",
    "surface_inds_appearance = getNumHitPerCoord(locs, threshold=None)\n",
    "surface_inds_appearance"
   ]
  },
  {
   "cell_type": "code",
   "execution_count": 17,
   "metadata": {},
   "outputs": [
    {
     "data": {
      "text/plain": [
       "((256685, 4), (278477, 3))"
      ]
     },
     "execution_count": 17,
     "metadata": {},
     "output_type": "execute_result"
    }
   ],
   "source": [
    "surface_inds_appearance.shape, surface_inds.shape"
   ]
  },
  {
   "cell_type": "code",
   "execution_count": 18,
   "metadata": {},
   "outputs": [],
   "source": [
    "s_inds = toIntAppended1D(surface_inds)\n",
    "s_coords = toIntAppended1D(surface_inds_appearance[:,:3])\n",
    "s, a_inds, b_inds = np.intersect1d(s_inds, s_coords, return_indices=True)\n",
    "surface_inds_appearance_real = np.concatenate([surface_inds, np.zeros((len(surface_inds),1))], axis=1).astype(np.int16)\n",
    "surface_inds_appearance_real[a_inds,3] = surface_inds_appearance[b_inds,3]\n",
    "#surface_inds_appearance = surface_inds_appearance_real.copy()"
   ]
  },
  {
   "cell_type": "code",
   "execution_count": 19,
   "metadata": {},
   "outputs": [
    {
     "data": {
      "text/plain": [
       "array([[  2, 120, 119,  47],\n",
       "       [  2, 120, 120,  39],\n",
       "       [  2, 120, 121,  33],\n",
       "       ...,\n",
       "       [289, 137, 105,  44],\n",
       "       [289, 137, 106,  44],\n",
       "       [289, 138, 102,  59]], dtype=int16)"
      ]
     },
     "execution_count": 19,
     "metadata": {},
     "output_type": "execute_result"
    }
   ],
   "source": [
    "surface_inds_appearance_real"
   ]
  },
  {
   "cell_type": "code",
   "execution_count": 27,
   "metadata": {},
   "outputs": [
    {
     "data": {
      "image/png": "[encoded data removed]",
      "text/plain": [
       "<Figure size 432x288 with 1 Axes>"
      ]
     },
     "metadata": {
      "needs_background": "light"
     },
     "output_type": "display_data"
    }
   ],
   "source": [
    "# visualization for threshold estimation (more hits -> more likely to be outer surface)\n",
    "plt.hist(surface_inds_appearance_real[:,-1], bins=64)\n",
    "plt.xlabel('Number of hits')\n",
    "plt.show()"
   ]
  },
  {
   "cell_type": "code",
   "execution_count": 21,
   "metadata": {},
   "outputs": [
    {
     "data": {
      "text/plain": [
       "18"
      ]
     },
     "execution_count": 21,
     "metadata": {},
     "output_type": "execute_result"
    }
   ],
   "source": [
    "thresh_min = threshold_minimum(surface_inds_appearance_real[:,-1])\n",
    "thresh_min"
   ]
  },
  {
   "cell_type": "code",
   "execution_count": 22,
   "metadata": {},
   "outputs": [],
   "source": [
    "threshold = thresh_min\n",
    "outer_surface_inds = surface_inds_appearance_real[surface_inds_appearance_real[:,-1]>threshold][:,:3]\n",
    "inner_surface_inds = surface_inds_appearance_real[surface_inds_appearance_real[:,-1]<=threshold][:,:3]"
   ]
  },
  {
   "cell_type": "code",
   "execution_count": 23,
   "metadata": {},
   "outputs": [],
   "source": [
    "outer = coords2pc(outer_surface_inds, plot=False, color=[1,0,0])\n",
    "inner = coords2pc(inner_surface_inds, plot=False, color=[0,0,1])\n",
    "o3d.visualization.draw_geometries([outer, inner])"
   ]
  },
  {
   "cell_type": "code",
   "execution_count": 24,
   "metadata": {},
   "outputs": [
    {
     "data": {
      "image/png": "[encoded data removed]",
      "text/plain": [
       "<Figure size 432x288 with 1 Axes>"
      ]
     },
     "metadata": {
      "needs_background": "light"
     },
     "output_type": "display_data"
    },
    {
     "name": "stdout",
     "output_type": "stream",
     "text": [
      "1.7550138\n"
     ]
    }
   ],
   "source": [
    "# a bit postprocessing\n",
    "\n",
    "cube = np.zeros(shape).astype(np.float32)\n",
    "coords = surface_inds_appearance_real[:,:3]\n",
    "values = surface_inds_appearance_real[:,-1]\n",
    "cube[coords[:,0],coords[:,1],coords[:,2]] = values\n",
    "\n",
    "# filtering\n",
    "cube_filtered = cube.copy()\n",
    "    \n",
    "cube_filtered = scipy.ndimage.convolve(cube_filtered, np.ones((3,3,3))/(3**3))\n",
    "cube_filtered = scipy.ndimage.convolve(cube_filtered, np.ones((5,5,5))/(5**3))\n",
    "cube_filtered = scipy.ndimage.convolve(cube_filtered, np.ones((7,7,7))/(7**3))\n",
    "cube_filtered = scipy.ndimage.convolve(cube_filtered, np.ones((9,9,9))/(9**3))\n",
    "\n",
    "new_values = cube_filtered[coords[:,0],coords[:,1],coords[:,2]]\n",
    "plt.hist(new_values, bins=64)\n",
    "plt.show()\n",
    "\n",
    "thresh_min = threshold_minimum(new_values)\n",
    "threshold = thresh_min\n",
    "print(threshold)"
   ]
  },
  {
   "cell_type": "code",
   "execution_count": 25,
   "metadata": {},
   "outputs": [],
   "source": [
    "cube_filtered = scipy.ndimage.convolve(cube_filtered, np.ones((11,11,11))/(11**3))"
   ]
  },
  {
   "cell_type": "code",
   "execution_count": 50,
   "metadata": {},
   "outputs": [
    {
     "data": {
      "text/plain": [
       "5.178558"
      ]
     },
     "execution_count": 50,
     "metadata": {},
     "output_type": "execute_result"
    }
   ],
   "source": [
    "new_values.max()"
   ]
  },
  {
   "cell_type": "code",
   "execution_count": 84,
   "metadata": {},
   "outputs": [
    {
     "data": {
      "image/png": "[encoded data removed]",
      "text/plain": [
       "<Figure size 360x360 with 1 Axes>"
      ]
     },
     "metadata": {},
     "output_type": "display_data"
    }
   ],
   "source": [
    "sns.set_style(\"white\")\n",
    "new_values = cube_filtered[coords[:,0],coords[:,1],coords[:,2]]\n",
    "ax = sns.displot(new_values, bins=32, color='#405847', zorder=10)\n",
    "plt.xticks(np.linspace(0,max(new_values), 5), np.linspace(0,1,5))\n",
    "plt.yticks\n",
    "plt.xlabel(r'Visibility')\n",
    "plt.ylabel('Amount of vertices')\n",
    "\n",
    "plt.ylim([0,28000])\n",
    "\n",
    "plt.plot([1.52,1.52], [0,28000], label='threshold', color='#000000', zorder=9)\n",
    "\n",
    "plt.axvspan(0, 1.52, color='#0000FF', alpha=0.1, zorder=-1, label='Inner surface')\n",
    "plt.axvspan(1.52, new_values.max(), color='#FF0000', alpha=0.1, label='Outer surface')\n",
    "\n",
    "plt.legend()\n",
    "\n",
    "plt.savefig('hist_1.pdf', dpi=600)\n",
    "plt.show()\n"
   ]
  },
  {
   "cell_type": "code",
   "execution_count": 24,
   "metadata": {},
   "outputs": [],
   "source": [
    "outer = coords2pc(coords[new_values>1.4], plot=0, color=[1,0,0]) # threshold manually tuned\n",
    "inner = coords2pc(coords[new_values<=1.4], plot=0, color=[0,0,1])\n",
    "o3d.visualization.draw_geometries([outer, inner])"
   ]
  },
  {
   "cell_type": "code",
   "execution_count": null,
   "metadata": {},
   "outputs": [],
   "source": [
    "outer_surface_list = Vec2List(coords[new_values>1.4]).astype(np.int8)\n",
    "inner_surface_list = Vec2List(coords[new_values<=1.4]).astype(np.int8)\n",
    "\n",
    "np.save('outer_surface', outer_surface_list)\n",
    "np.save('inner_surface', inner_surface_list)"
   ]
  },
  {
   "cell_type": "code",
   "execution_count": null,
   "metadata": {},
   "outputs": [],
   "source": [
    "np.cos(np.pi)"
   ]
  },
  {
   "cell_type": "code",
   "execution_count": null,
   "metadata": {},
   "outputs": [],
   "source": []
  }
 ],
 "metadata": {
  "kernelspec": {
   "display_name": "Python 3",
   "language": "python",
   "name": "python3"
  },
  "language_info": {
   "codemirror_mode": {
    "name": "ipython",
    "version": 3
   },
   "file_extension": ".py",
   "mimetype": "text/x-python",
   "name": "python",
   "nbconvert_exporter": "python",
   "pygments_lexer": "ipython3",
   "version": "3.8.8"
  }
 },
 "nbformat": 4,
 "nbformat_minor": 4
}
